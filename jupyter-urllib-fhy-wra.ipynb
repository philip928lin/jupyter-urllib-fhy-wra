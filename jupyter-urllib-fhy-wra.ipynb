{
 "cells": [
  {
   "cell_type": "code",
   "execution_count": 335,
   "metadata": {
    "collapsed": true
   },
   "outputs": [],
   "source": [
    "from bs4 import BeautifulSoup\n",
    "from urllib.request import urlopen"
   ]
  },
  {
   "cell_type": "code",
   "execution_count": 336,
   "metadata": {},
   "outputs": [],
   "source": [
    "url = \"http://fhy.wra.gov.tw/ReservoirPage_2011/StorageCapacity.aspx\"\n",
    "html_get = urlopen(url).read()\n",
    "soup_get = BeautifulSoup(html_get, 'html.parser')"
   ]
  },
  {
   "cell_type": "code",
   "execution_count": 337,
   "metadata": {},
   "outputs": [],
   "source": [
    "viewstate = soup_get.find(\"input\", {\"id\": \"__VIEWSTATE\"}).attrs['value']\n",
    "viewstategenerator = soup_get.find(\"input\", {\"id\": \"__VIEWSTATEGENERATOR\"}).attrs['value']"
   ]
  },
  {
   "cell_type": "code",
   "execution_count": 338,
   "metadata": {},
   "outputs": [],
   "source": [
    "f = open('soup_get.html', 'w')\n",
    "f.write('%s' % soup_get.prettify())\n",
    "f.close()"
   ]
  },
  {
   "cell_type": "code",
   "execution_count": 339,
   "metadata": {},
   "outputs": [],
   "source": [
    "snippet = soup_get.find_all('script')[5]"
   ]
  },
  {
   "cell_type": "code",
   "execution_count": 340,
   "metadata": {},
   "outputs": [],
   "source": [
    "ctl00_ctl02_HiddenField_encoded = snippet['src'].split('=')[2]"
   ]
  },
  {
   "cell_type": "code",
   "execution_count": 341,
   "metadata": {},
   "outputs": [],
   "source": [
    "from urllib.parse import unquote\n",
    "ctl00_ctl02_HiddenField = \" \".join(unquote(ctl00_ctl02_HiddenField_encoded).split(\"+\"))"
   ]
  },
  {
   "cell_type": "code",
   "execution_count": 342,
   "metadata": {},
   "outputs": [],
   "source": [
    "year = 2017\n",
    "month = 6\n",
    "date = 6\n",
    "from urllib.parse import urlencode\n",
    "postdata = urlencode({\n",
    "    \"ctl00$ctl02\": \"ctl00$cphMain$ctl00|ctl00$cphMain$btnQuery\",\n",
    "    \"ctl00_ctl02_HiddenField\": ctl00_ctl02_HiddenField,\n",
    "    \"__EVENTTARGET\": \"ctl00$cphMain$btnQuery\",\n",
    "    \"__EVENTARGUMENT\": \"\",\n",
    "    \"__LASTFOCUS\": \"\",\n",
    "    \"__VIEWSTATE\": viewstate,\n",
    "    \"__VIEWSTATEGENERATOR\": viewstategenerator,\n",
    "    \"ctl00$cphMain$cboSearch\": \"防汛重點水庫\",\n",
    "    \"ctl00$cphMain$ucDate$cboYear\": year,\n",
    "    \"ctl00$cphMain$ucDate$cboMonth\": month,\n",
    "    \"ctl00$cphMain$ucDate$cboDay\": date,\n",
    "    \"__ASYNCPOST\": True\n",
    "})"
   ]
  },
  {
   "cell_type": "code",
   "execution_count": 343,
   "metadata": {},
   "outputs": [],
   "source": [
    "postdata = postdata.encode(\"utf-8\")"
   ]
  },
  {
   "cell_type": "code",
   "execution_count": 344,
   "metadata": {
    "collapsed": true
   },
   "outputs": [],
   "source": [
    "html_post = urlopen(url, postdata).read()\n",
    "soup_post = BeautifulSoup(html_post, 'html.parser')"
   ]
  },
  {
   "cell_type": "code",
   "execution_count": 345,
   "metadata": {},
   "outputs": [],
   "source": [
    "f = open('soup_post.html', 'w')\n",
    "f.write('%s' % soup_post.prettify())\n",
    "f.close()"
   ]
  },
  {
   "cell_type": "markdown",
   "metadata": {},
   "source": [
    "## Parse HTML using tags"
   ]
  },
  {
   "cell_type": "markdown",
   "metadata": {},
   "source": [
    "### Useful Operation Concepts Classified by Return Data Type\n",
    "- list: soup.find_all will return a list\n",
    "- string: soup.prettify() will return string, so use it only on output\n",
    "- bs4.BeutifulSoup: BeautifulSoup(html, \"html.parser\", parse_only=...) will return a bs4.BeautifulSoup class,so we can do more bs4 operation on it"
   ]
  },
  {
   "cell_type": "code",
   "execution_count": 346,
   "metadata": {},
   "outputs": [],
   "source": [
    "from bs4 import SoupStrainer\n",
    "import os\n",
    "\n",
    "output_csv_filename = \"reservoir.csv\"\n",
    "only_th_tags = SoupStrainer(\"th\")\n",
    "for idx, element in enumerate(soup_post.find_all(only_th_tags)):\n",
    "    if idx < 1 or idx > 3:\n",
    "        if idx < 1:\n",
    "            with open(output_csv_filename, \"w\") as f:\n",
    "                f.write(element.get_text() + \" \")\n",
    "        else:\n",
    "            with open(output_csv_filename, \"a\") as f:\n",
    "                f.write(element.get_text() + \" \")\n",
    "        #print(element.get_text())\n",
    "        \n",
    "with open(output_csv_filename, \"rb+\") as f:\n",
    "    f.seek(-1, os.SEEK_END)\n",
    "    f.truncate()\n",
    "with open(output_csv_filename, \"a\") as f:            \n",
    "    f.write(\"\\n\")\n"
   ]
  },
  {
   "cell_type": "markdown",
   "metadata": {},
   "source": [
    "> 這三欄不計：\n",
    "> ~~水庫基本數據~~\n",
    "> ~~每日蓄水統計~~\n",
    "> ~~即時水情資料~~\n",
    "\n",
    "CSV 欄位以下開始：\n",
    "1. 水庫名稱\n",
    "2. 有效容量(萬立方公尺)\n",
    "3. 統計時間\n",
    "4. 集水區降雨量(毫米)\n",
    "5. 進水量(萬立方公尺)\n",
    "6. 出水量(萬立方公尺)\n",
    "7. 與昨日水位差(公尺)\n",
    "8. 水情時間\n",
    "9. 水位(公尺)\n",
    "10. 有效蓄水量(萬立方公尺)\n",
    "11. 蓄水量百分比(%)"
   ]
  },
  {
   "cell_type": "code",
   "execution_count": 347,
   "metadata": {},
   "outputs": [],
   "source": [
    "\n",
    "import re\n",
    "only_tr_tags = SoupStrainer(\"tr\")\n",
    "only_td_tags = SoupStrainer(\"td\")\n",
    "\n",
    "for idx, td_details in enumerate(soup_post.find_all(only_tr_tags)):\n",
    "    if idx > 1 and idx < 22: # reservoir data range from 2 to 21 in the list\n",
    "        for t_idx, element in enumerate(td_details.find_all(only_td_tags)):\n",
    "            matchObject = re.match('\\S+',element.get_text())\n",
    "            if matchObject:\n",
    "                with open(output_csv_filename, \"a\") as f:\n",
    "                        f.write(matchObject.group() + \" \") \n",
    "                #if idx == 2 and t_idx == 0:\n",
    "                #    with open(output_csv_filename, \"w\") as f:\n",
    "                #        f.write(matchObject.group() + \" \")\n",
    "                #else: # if t_idx == 6 should modify timestamp to match ISO861\n",
    "                #    with open(output_csv_filename, \"a\") as f:\n",
    "                #        f.write(matchObject.group() + \" \")    \n",
    "                #print(matchObject.group())\n",
    "        with open(output_csv_filename, \"rb+\") as f:\n",
    "            f.seek(-1, os.SEEK_END)\n",
    "            f.truncate()\n",
    "        with open(output_csv_filename, \"a\") as f:            \n",
    "            f.write(\"\\n\")\n"
   ]
  },
  {
   "cell_type": "code",
   "execution_count": null,
   "metadata": {
    "collapsed": true
   },
   "outputs": [],
   "source": []
  }
 ],
 "metadata": {
  "kernelspec": {
   "display_name": "Python 3",
   "language": "python",
   "name": "python3"
  },
  "language_info": {
   "codemirror_mode": {
    "name": "ipython",
    "version": 3
   },
   "file_extension": ".py",
   "mimetype": "text/x-python",
   "name": "python",
   "nbconvert_exporter": "python",
   "pygments_lexer": "ipython3",
   "version": "3.4.3"
  }
 },
 "nbformat": 4,
 "nbformat_minor": 2
}
